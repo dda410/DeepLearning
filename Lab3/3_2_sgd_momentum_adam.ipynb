{
  "nbformat": 4,
  "nbformat_minor": 0,
  "metadata": {
    "colab": {
      "name": "3_2_sgd_momentum_adam.ipynb",
      "version": "0.3.2",
      "provenance": [],
      "collapsed_sections": []
    },
    "kernelspec": {
      "display_name": "Python 3",
      "language": "python",
      "name": "python3"
    }
  },
  "cells": [
    {
      "metadata": {
        "deletable": false,
        "editable": false,
        "nbgrader": {
          "checksum": "76f331e42b18f90c2798827fd09f7916",
          "grade": false,
          "grade_id": "cell-64f625d2f2a95421",
          "locked": true,
          "schema_version": 1,
          "solution": false
        },
        "id": "zpUErSiw7Tqw",
        "colab_type": "text"
      },
      "cell_type": "markdown",
      "source": [
        "# Part 2: Stochastic Gradient Descent, Momentum, and Adam"
      ]
    },
    {
      "metadata": {
        "deletable": false,
        "editable": false,
        "nbgrader": {
          "checksum": "7f0ff2c2c93f9726d6df73febe04ee97",
          "grade": false,
          "grade_id": "cell-4298e9d3fced7f34",
          "locked": true,
          "schema_version": 1,
          "solution": false
        },
        "id": "agw7ngNK7Tq0",
        "colab_type": "text"
      },
      "cell_type": "markdown",
      "source": [
        "### For this part of the lab, using the same data and setup as in Part 1, compare how stochastic gradient descent (SGD), SGD with momentum, and ADAM will perform. You are free to write all of the code on your own, or if you prefer, you can fill in the missing sections in the code below."
      ]
    },
    {
      "metadata": {
        "deletable": false,
        "editable": false,
        "nbgrader": {
          "checksum": "d1c4e30f2dcd1eaf1c6aa91f689bf6d7",
          "grade": false,
          "grade_id": "cell-d5a58ae230138c8a",
          "locked": true,
          "schema_version": 1,
          "solution": false
        },
        "id": "_4zJkJOh7Tq2",
        "colab_type": "text"
      },
      "cell_type": "markdown",
      "source": [
        "### Start by reusing some of the functions you have coded for Part 1 to compute the hypothesis, the gradient of the cost function, and the cost function. This code will then be used by the next section of the workbook."
      ]
    },
    {
      "metadata": {
        "deletable": false,
        "nbgrader": {
          "checksum": "14db73c902e1aba6fd752b6e28234498",
          "grade": true,
          "grade_id": "cell-f09153a723d1bb21",
          "locked": false,
          "points": 0,
          "schema_version": 1,
          "solution": true
        },
        "id": "HFYzK8e27Tq3",
        "colab_type": "code",
        "colab": {}
      },
      "cell_type": "code",
      "source": [
        "import torch\n",
        "import numpy as np\n",
        "import matplotlib.pyplot as plt\n",
        "\n",
        "## generate M data points roughly forming a line (noise added)\n",
        "M = 50\n",
        "theta_true = torch.Tensor([[0.5], [2]])\n",
        "\n",
        "X = 10 * torch.rand(M, 2) - 5\n",
        "X[:, 1] = 1.0\n",
        "\n",
        "y = torch.mm(X, theta_true) + 0.3 * torch.randn(M, 1)\n",
        "\n",
        "## hypothesis computes $h_theta$\n",
        "def hypothesis(theta, X):\n",
        "    # YOUR CODE HERE\n",
        "    return X @ theta\n",
        "\n",
        "## grad_cost_func computes the gradient of J for linear regression given J is the MSE \n",
        "def grad_cost_func(theta, X, y): \n",
        "    M = X.size()[0]\n",
        "    return (1/M) * X.t() @ (hypothesis(theta, X) - y) \n",
        "\n",
        "## cost_func computes the cost function J\n",
        "def cost_func(theta, X, y): \n",
        "    M = X.size()[0]\n",
        "    return (1/(2 * M)) * (hypothesis(theta, X) - y).t() @ (hypothesis(theta, X) - y)"
      ],
      "execution_count": 0,
      "outputs": []
    },
    {
      "metadata": {
        "deletable": false,
        "editable": false,
        "nbgrader": {
          "checksum": "34e932803ed631e6d14a1f09103b98c2",
          "grade": false,
          "grade_id": "cell-4f05371072d188fa",
          "locked": true,
          "schema_version": 1,
          "solution": false
        },
        "id": "XBj2qr5O7Tq8",
        "colab_type": "text"
      },
      "cell_type": "markdown",
      "source": [
        "## Now we'd like to compare how stochastic gradient descent (SGD), SGD with momentum, and ADAM will run over weight updates. Complete the defined functions below and make sure to add the parameters which may need to be passed into the functions as well. Plot the weight updates over the contour plot using varying colours. Note, for clarity, you may only want to plot some of the updates."
      ]
    },
    {
      "metadata": {
        "deletable": false,
        "nbgrader": {
          "checksum": "dc258f32732e143ee8c8ad9b25b34096",
          "grade": true,
          "grade_id": "cell-5189819c97d93617",
          "locked": false,
          "points": 10,
          "schema_version": 1,
          "solution": true
        },
        "id": "omfmOZ-b7Tq9",
        "colab_type": "code",
        "colab": {
          "base_uri": "https://localhost:8080/",
          "height": 470
        },
        "outputId": "f3d71183-db8c-40df-91fe-348520ba1e50"
      },
      "cell_type": "code",
      "source": [
        "import math\n",
        "\n",
        "## The weight update computed using the ADAM optimisation algorithm\n",
        "def weightupdate_adam(theta, count, X, y):\n",
        "  t = m_t = v_t = 0\n",
        "  epsilon = 1e-8\n",
        "  start, end = 0, count\n",
        "  for i in range(len(y) // count):\n",
        "    t+=1\n",
        "    g_t = grad_cost_func(theta, X[start:end], y[start:end])\n",
        "    m_t = beta_1*m_t + (1-beta_1)*g_t\n",
        "    v_t = beta_2*v_t + (1-beta_2)*(g_t*g_t)\n",
        "    m_cap = m_t/(1-(beta_1**t))\n",
        "    v_cap = v_t/(1-(beta_2**t))\n",
        "    theta = theta - (alpha*m_cap)/(v_cap.sqrt_()+epsilon)\n",
        "    start, end = start + count, end + count\n",
        "  return theta\n",
        "\n",
        "## The weight update computed using SGD + momentum\n",
        "def weightupdate_sgd_momentum(theta, count, X, y):\n",
        "  velocity = 0\n",
        "  last_theta = theta\n",
        "  start, end = 0, count\n",
        "  for i in range(len(y) // count):\n",
        "    velocity = beta_1 * velocity + (1 - beta_1) * grad_cost_func(last_theta, X[start:end], y[start:end])\n",
        "    this_theta = last_theta - alpha * velocity\n",
        "    last_theta = this_theta\n",
        "    start, end = start + count, end + count\n",
        "  return last_theta\n",
        "  \n",
        "  return None\n",
        "    # YOUR CODE HERE\n",
        "#     raise NotImplementedError()\n",
        "\n",
        "## The weight updated computed using SGD\n",
        "def weigthupdate_sgd(theta, count, X, y):\n",
        "  last_theta = theta\n",
        "  start, end = 0, count\n",
        "  for i in range(len(y) // count):\n",
        "    this_theta = last_theta - alpha * grad_cost_func(last_theta, X[start:end], y[start:end])\n",
        "    last_theta = this_theta\n",
        "    start, end = start + count, end + count\n",
        "  return last_theta\n",
        "\n",
        "N = 200\n",
        "beta_1 = 0.9\n",
        "beta_2 = 0.999\n",
        "alpha = 0.01\n",
        "\n",
        "theta_0 = torch.Tensor([[2],[4]]) #initialise\n",
        "\n",
        "# Write the code that will call of the optimisation update functions and compute weight updates for each individual data point over N iterations.\n",
        "# YOUR CODE HERE\n",
        "# raise NotImplementedError()\n",
        "#######################\n",
        "theta_sgd = [theta_0]\n",
        "theta_sgdm = [theta_0]\n",
        "theta_adam = [theta_0]\n",
        "for j in range(1,N):\n",
        "  theta_sgd.append(weigthupdate_sgd(theta_sgd[-1], 1, X, y))\n",
        "  theta_sgdm.append(weightupdate_sgd_momentum(theta_sgdm[-1], 1, X, y))\n",
        "  theta_adam.append(weightupdate_adam(theta_adam[-1], 1, X, y))\n",
        "print(\"SGD:\", theta_sgd[-1])\n",
        "print(\"SGDM:\", theta_sgdm[-1])\n",
        "print(\"ADAM:\", theta_adam[-1])\n",
        "########################\n",
        "\n",
        "\n",
        "theta_0_vals = np.linspace(-2,4,100)\n",
        "theta_1_vals = np.linspace(0,4,100)\n",
        "theta = torch.Tensor(len(theta_0_vals),2)\n",
        "\n",
        "# Compute the value of the cost function, J, over all the thetas in order to plot the contour below.\n",
        "# YOUR CODE HERE\n",
        "# raise NotImplementedError()\n",
        "J = torch.empty((len(theta_0_vals),len(theta_1_vals)))\n",
        "for n, i in enumerate(theta_0_vals): #calculating from a meshgrid would be quicker\n",
        "  for m, j in enumerate(theta_1_vals):\n",
        "    J[n,m] = cost_func(torch.tensor([[i],[j]]),X,y)\n",
        "\n",
        "# Now plot the output of SGD, momentum and Adam all on the same plot for comparison\n",
        "# YOUR CODE HERE\n",
        "# raise NotImplementedError()\n",
        "xc,yc = np.meshgrid(theta_0_vals, theta_1_vals)\n",
        "contours = plt.contour(xc, yc, J, 20)\n",
        "plt.scatter(theta_sgd[-1][0], theta_sgd[-1][1], alpha=0.5, label=\"SGD\")\n",
        "plt.scatter(theta_sgdm[-1][0], theta_sgdm[-1][1], alpha=0.5, label=\"SGDM\")\n",
        "plt.scatter(theta_adam[-1][0], theta_adam[-1][1], alpha=0.5, label=\"ADAM\")\n",
        "plt.legend()"
      ],
      "execution_count": 107,
      "outputs": [
        {
          "output_type": "stream",
          "text": [
            "SGD: tensor([[0.4897],\n",
            "        [2.0858]])\n",
            "SGDM: tensor([[0.4632],\n",
            "        [2.0805]])\n",
            "ADAM: tensor([[0.4593],\n",
            "        [2.0615]])\n"
          ],
          "name": "stdout"
        },
        {
          "output_type": "execute_result",
          "data": {
            "text/plain": [
              "<matplotlib.legend.Legend at 0x7f327455e6a0>"
            ]
          },
          "metadata": {
            "tags": []
          },
          "execution_count": 107
        },
        {
          "output_type": "display_data",
          "data": {
            "image/png": "[encoded data removed]",
            "text/plain": [
              "<Figure size 576x396 with 1 Axes>"
            ]
          },
          "metadata": {
            "tags": []
          }
        }
      ]
    },
    {
      "metadata": {
        "id": "cDe3AuPH7TrI",
        "colab_type": "code",
        "colab": {}
      },
      "cell_type": "code",
      "source": [
        ""
      ],
      "execution_count": 0,
      "outputs": []
    }
  ]
}